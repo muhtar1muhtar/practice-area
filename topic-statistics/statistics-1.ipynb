{
 "cells": [
  {
   "cell_type": "markdown",
   "id": "9fab469a",
   "metadata": {},
   "source": [
    "# Distribution\n",
    "\n",
    "In descriptive statistics, distribution refers to how the values of a variable are spread or arranged across its possible range. It’s essentially the “shape” of your data — showing which values occur more often and which are rare.\n",
    "\n",
    "### Breakdown\n",
    "\n",
    "* __Definition:__ A distribution describes the frequency of each value (or range of values) in your dataset.\n",
    "* __Purpose:__ It helps you see patterns — for example, whether most values cluster around the middle, spread evenly, or skew toward one side\n",
    "* __Common views:__\n",
    "    * __Frequency tables:__ List each value (or group of values) with its count or percentage.\n",
    "    * __Histograms:__ Visualize how often values occur.\n",
    "* __Key shapes:__\n",
    "    * __Symmetrical__ (e.g., bell curve)\n",
    "    * __Positively skewed__ (tail to the right)\n",
    "    * __Negatively skewed__ (tail to the left)\n",
    "\n",
    "### Types of Distributions – Examples\n",
    "\n",
    "* __Normal:__ Symmetrical bell curve (e.g., height).\n",
    "* __Skewed:__ Tail to one side (e.g., income).\n",
    "* __Uniform:__ All values equally likely (e.g., dice rolls).\n",
    "* __Bimodal:__ Two peaks (e.g., two distinct student groups).\n",
    "* __Binomial / Poisson / Exponential / t-distribution:__ Common statistical models for different scenarios."
   ]
  },
  {
   "cell_type": "code",
   "execution_count": 1,
   "id": "ec2ee19e",
   "metadata": {},
   "outputs": [
    {
     "data": {
      "text/html": [
       "<div>\n",
       "<style scoped>\n",
       "    .dataframe tbody tr th:only-of-type {\n",
       "        vertical-align: middle;\n",
       "    }\n",
       "\n",
       "    .dataframe tbody tr th {\n",
       "        vertical-align: top;\n",
       "    }\n",
       "\n",
       "    .dataframe thead th {\n",
       "        text-align: right;\n",
       "    }\n",
       "</style>\n",
       "<table border=\"1\" class=\"dataframe\">\n",
       "  <thead>\n",
       "    <tr style=\"text-align: right;\">\n",
       "      <th></th>\n",
       "      <th>A</th>\n",
       "      <th>B</th>\n",
       "    </tr>\n",
       "  </thead>\n",
       "  <tbody>\n",
       "    <tr>\n",
       "      <th>0</th>\n",
       "      <td>2</td>\n",
       "      <td>6</td>\n",
       "    </tr>\n",
       "    <tr>\n",
       "      <th>1</th>\n",
       "      <td>3</td>\n",
       "      <td>9</td>\n",
       "    </tr>\n",
       "    <tr>\n",
       "      <th>2</th>\n",
       "      <td>5</td>\n",
       "      <td>10</td>\n",
       "    </tr>\n",
       "    <tr>\n",
       "      <th>3</th>\n",
       "      <td>3</td>\n",
       "      <td>8</td>\n",
       "    </tr>\n",
       "    <tr>\n",
       "      <th>4</th>\n",
       "      <td>2</td>\n",
       "      <td>7</td>\n",
       "    </tr>\n",
       "  </tbody>\n",
       "</table>\n",
       "</div>"
      ],
      "text/plain": [
       "   A   B\n",
       "0  2   6\n",
       "1  3   9\n",
       "2  5  10\n",
       "3  3   8\n",
       "4  2   7"
      ]
     },
     "execution_count": 1,
     "metadata": {},
     "output_type": "execute_result"
    },
    {
     "data": {
      "image/png": "[encoded data removed]",
      "text/plain": [
       "<Figure size 640x480 with 1 Axes>"
      ]
     },
     "metadata": {},
     "output_type": "display_data"
    }
   ],
   "source": [
    "import pandas as pd\n",
    "import numpy as np\n",
    "\n",
    "# Create a DataFrame with column A of random integers\n",
    "df = pd.DataFrame(np.random.randint(1, 7, 6000), columns=['A'])\n",
    "# Add a column B to the DataFrame\n",
    "df['B'] = df['A'] + np.random.randint(1, 7, 6000)\n",
    "#Plot a histogram of the frequency of each integer in columns A and B\n",
    "ax = df.plot.hist(bins=12, alpha=0.5)\n",
    "df.head()"
   ]
  },
  {
   "cell_type": "markdown",
   "id": "1d422452",
   "metadata": {},
   "source": [
    "# Data Type\n",
    "\n",
    "### 1. Numerical Variables\n",
    "\n",
    "* __Quantitative:__ Measure how much or how many.\n",
    "* __Discrete:__ Countable (e.g., number of children).\n",
    "* __Continuous:__ Any value in a range (e.g., height, temperature).\n",
    "* Support math operations; summarised by mean, median, variance, etc.\n",
    "\n",
    "### 2. Categorical Variables\n",
    "\n",
    "* __Qualitative:__ Describe categories or groups.\n",
    "* __Nominal:__ No order (e.g., blood type).\n",
    "* __Ordinal:__ Ordered (e.g., satisfaction level).\n",
    "* Summarised via frequency tables, bar charts, pie charts.\n",
    "\n",
    "\n"
   ]
  },
  {
   "cell_type": "code",
   "execution_count": 2,
   "id": "59f4a6a1",
   "metadata": {},
   "outputs": [
    {
     "data": {
      "text/plain": [
       "Price                                     float64\n",
       "Number of times you went to the market      int64\n",
       "Colour                                     object\n",
       "dtype: object"
      ]
     },
     "execution_count": 2,
     "metadata": {},
     "output_type": "execute_result"
    }
   ],
   "source": [
    "df = pd.DataFrame({'Price': [52.34],\n",
    "                   'Number of times you went to the market': [1],\n",
    "                   'Colour': ['red']})\n",
    "df.dtypes"
   ]
  },
  {
   "cell_type": "markdown",
   "id": "028985ec",
   "metadata": {},
   "source": [
    "# Descriptive Statistics \n",
    "\n",
    "**Descriptive statistics** is about **summarising data** in two ways:\n",
    "* __Numerical summaries__ (quantitative measures)\n",
    "* __Graphs/plots__ (visual representation)\n",
    "\n",
    "It can focus on:\n",
    "* __Univariate analysis__ – one variable\n",
    "* __Bivariate analysis__ – two variables\n",
    "* __Multivariate analysis__ – more than two variables\n",
    "\n",
    "Key aspects studied are:\n",
    "1. __Central tendency__ → what is “typical” in the data\t\n",
    "    * Examples: mean, median, mode\n",
    "2. __Variability__ → how spread out the data is \n",
    "    * Examples: range, variance, standard deviation, interquartile range (IQR)\n"
   ]
  },
  {
   "cell_type": "markdown",
   "id": "0dd57a44",
   "metadata": {},
   "source": [
    "# Population and Sample￼\n",
    "* __Population__ → the entire group of interest (e.g., all people in a country).\n",
    "* __Sample__ → a smaller part of the population used for study.\n",
    "* Collecting data from the whole population is often too time-consuming, costly, and difficult.\n",
    "* A __sample__ should be large and representative so it reflects the population accurately.\n",
    "* The __larger the sample__, the __smaller the error__ compared to the whole population.\n",
    "\n",
    "**Example:**\n",
    "If your country has 10 million people, that’s the __population__.\n",
    "Surveying 1,000 randomly chosen people is the __sample__.\n",
    "If chosen well, those 1,000 responses can give you a reliable picture of the preferences of all 10 million.\n"
   ]
  },
  {
   "cell_type": "markdown",
   "id": "766f6f16",
   "metadata": {},
   "source": [
    "# Outliers\n",
    "**Outliers** are data points that differ from most of the data.\n",
    "* They can occur due to errors (in data collection, human mistakes, faulty equipment) or reflect **new/real behaviour**.\n",
    "* It’s often hard to know the cause if the data collection process isn’t observed.\n",
    "* Key point: **outliers exist and need attention**; later lessons cover how to handle them."
   ]
  }
 ],
 "metadata": {
  "kernelspec": {
   "display_name": ".venv",
   "language": "python",
   "name": "python3"
  },
  "language_info": {
   "codemirror_mode": {
    "name": "ipython",
    "version": 3
   },
   "file_extension": ".py",
   "mimetype": "text/x-python",
   "name": "python",
   "nbconvert_exporter": "python",
   "pygments_lexer": "ipython3",
   "version": "3.12.8"
  }
 },
 "nbformat": 4,
 "nbformat_minor": 5
}
