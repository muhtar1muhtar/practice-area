{
 "cells": [
  {
   "cell_type": "code",
   "execution_count": 1,
   "id": "fa748dc7",
   "metadata": {},
   "outputs": [],
   "source": [
    "import numpy as np"
   ]
  },
  {
   "cell_type": "code",
   "execution_count": 2,
   "id": "f29fa347",
   "metadata": {},
   "outputs": [
    {
     "data": {
      "text/plain": [
       "array([ 6,  9, 12])"
      ]
     },
     "execution_count": 2,
     "metadata": {},
     "output_type": "execute_result"
    }
   ],
   "source": [
    "# Create a NumPy array from the same Python list and assign it to variable a\n",
    "a = np.array([2,3,4])\n",
    "# Multiply the variable by 3\n",
    "a * 3"
   ]
  },
  {
   "cell_type": "code",
   "execution_count": 4,
   "id": "b4271ac8",
   "metadata": {},
   "outputs": [
    {
     "data": {
      "text/plain": [
       "array([[0, 7, 5, 0, 6],\n",
       "       [3, 2, 3, 0, 7],\n",
       "       [2, 1, 7, 3, 5]])"
      ]
     },
     "execution_count": 4,
     "metadata": {},
     "output_type": "execute_result"
    }
   ],
   "source": [
    "np.random.seed(seed=2)\n",
    "arr1 = np.random.randint(low=0, high=8, size=(3,5))\n",
    "arr1"
   ]
  },
  {
   "cell_type": "code",
   "execution_count": 5,
   "id": "74218888",
   "metadata": {},
   "outputs": [
    {
     "data": {
      "text/plain": [
       "array([[37, 43, 12,  8,  9],\n",
       "       [11,  5, 15,  0, 16],\n",
       "       [ 1, 12,  7, 45,  6]])"
      ]
     },
     "execution_count": 5,
     "metadata": {},
     "output_type": "execute_result"
    }
   ],
   "source": [
    "np.random.seed(seed=1)\n",
    "arr2 = np.random.randint(low=0, high=50, size=(3,5))\n",
    "arr2"
   ]
  },
  {
   "cell_type": "code",
   "execution_count": 7,
   "id": "362c8e18",
   "metadata": {},
   "outputs": [
    {
     "data": {
      "text/plain": [
       "array([[39, 45, 14, 10, 11],\n",
       "       [13,  7, 17,  2, 18],\n",
       "       [ 3, 14,  9, 47,  8]])"
      ]
     },
     "execution_count": 7,
     "metadata": {},
     "output_type": "execute_result"
    }
   ],
   "source": [
    "arr2 + 2"
   ]
  },
  {
   "cell_type": "code",
   "execution_count": 8,
   "id": "0c7a830c",
   "metadata": {},
   "outputs": [
    {
     "data": {
      "text/plain": [
       "array([[0.        , 1.        , 0.71428571, 0.        , 0.85714286],\n",
       "       [0.42857143, 0.28571429, 0.42857143, 0.        , 1.        ],\n",
       "       [0.28571429, 0.14285714, 1.        , 0.42857143, 0.71428571]])"
      ]
     },
     "execution_count": 8,
     "metadata": {},
     "output_type": "execute_result"
    }
   ],
   "source": [
    "arr1 / 7"
   ]
  },
  {
   "cell_type": "code",
   "execution_count": 9,
   "id": "ed1dca69",
   "metadata": {},
   "outputs": [
    {
     "data": {
      "text/plain": [
       "array([[0.  , 5.25, 3.75, 0.  , 4.5 ],\n",
       "       [2.25, 1.5 , 2.25, 0.  , 5.25],\n",
       "       [1.5 , 0.75, 5.25, 2.25, 3.75]])"
      ]
     },
     "execution_count": 9,
     "metadata": {},
     "output_type": "execute_result"
    }
   ],
   "source": [
    "arr1 * .75"
   ]
  },
  {
   "cell_type": "code",
   "execution_count": 11,
   "id": "0b39ffd0",
   "metadata": {},
   "outputs": [
    {
     "data": {
      "text/plain": [
       "array([[-3,  4,  2, -3,  3],\n",
       "       [ 0, -1,  0, -3,  4],\n",
       "       [-1, -2,  4,  0,  2]])"
      ]
     },
     "execution_count": 11,
     "metadata": {},
     "output_type": "execute_result"
    }
   ],
   "source": [
    "arr1 - 3"
   ]
  },
  {
   "cell_type": "code",
   "execution_count": 12,
   "id": "5c262086",
   "metadata": {},
   "outputs": [
    {
     "data": {
      "text/plain": [
       "array([[  0, 343, 125,   0, 216],\n",
       "       [ 27,   8,  27,   0, 343],\n",
       "       [  8,   1, 343,  27, 125]])"
      ]
     },
     "execution_count": 12,
     "metadata": {},
     "output_type": "execute_result"
    }
   ],
   "source": [
    "arr1 ** 3"
   ]
  },
  {
   "cell_type": "code",
   "execution_count": 13,
   "id": "3d192eb5",
   "metadata": {},
   "outputs": [
    {
     "data": {
      "text/plain": [
       "array([[ 0, 49, 25,  0, 36],\n",
       "       [ 9,  4,  9,  0, 49],\n",
       "       [ 4,  1, 49,  9, 25]])"
      ]
     },
     "execution_count": 13,
     "metadata": {},
     "output_type": "execute_result"
    }
   ],
   "source": [
    "arr1 ** 2"
   ]
  },
  {
   "cell_type": "code",
   "execution_count": 14,
   "id": "64b4790a",
   "metadata": {},
   "outputs": [
    {
     "data": {
      "text/plain": [
       "array([[37, 50, 17,  8, 15],\n",
       "       [14,  7, 18,  0, 23],\n",
       "       [ 3, 13, 14, 48, 11]])"
      ]
     },
     "execution_count": 14,
     "metadata": {},
     "output_type": "execute_result"
    }
   ],
   "source": [
    "arr1 + arr2  # Adding two arrays of the same shape"
   ]
  },
  {
   "cell_type": "code",
   "execution_count": 15,
   "id": "034698ef",
   "metadata": {},
   "outputs": [
    {
     "data": {
      "text/plain": [
       "array([[  0, 301,  60,   0,  54],\n",
       "       [ 33,  10,  45,   0, 112],\n",
       "       [  2,  12,  49, 135,  30]])"
      ]
     },
     "execution_count": 15,
     "metadata": {},
     "output_type": "execute_result"
    }
   ],
   "source": [
    "arr1 * arr2"
   ]
  },
  {
   "cell_type": "code",
   "execution_count": 16,
   "id": "05bcf85d",
   "metadata": {},
   "outputs": [
    {
     "data": {
      "text/plain": [
       "array([[37, 36,  7,  8,  3],\n",
       "       [ 8,  3, 12,  0,  9],\n",
       "       [-1, 11,  0, 42,  1]])"
      ]
     },
     "execution_count": 16,
     "metadata": {},
     "output_type": "execute_result"
    }
   ],
   "source": [
    "arr2 - arr1"
   ]
  },
  {
   "cell_type": "code",
   "execution_count": 17,
   "id": "f9df36cc",
   "metadata": {},
   "outputs": [
    {
     "name": "stderr",
     "output_type": "stream",
     "text": [
      "/var/folders/yn/4hm9bbfn0414pdpdfbn4x7sh0000gn/T/ipykernel_22289/1158826047.py:1: RuntimeWarning: invalid value encountered in divide\n",
      "  arr1 /  arr2\n"
     ]
    },
    {
     "data": {
      "text/plain": [
       "array([[0.        , 0.1627907 , 0.41666667, 0.        , 0.66666667],\n",
       "       [0.27272727, 0.4       , 0.2       ,        nan, 0.4375    ],\n",
       "       [2.        , 0.08333333, 1.        , 0.06666667, 0.83333333]])"
      ]
     },
     "execution_count": 17,
     "metadata": {},
     "output_type": "execute_result"
    }
   ],
   "source": [
    "arr1 /  arr2"
   ]
  },
  {
   "cell_type": "code",
   "execution_count": 18,
   "id": "724619e7",
   "metadata": {},
   "outputs": [
    {
     "name": "stderr",
     "output_type": "stream",
     "text": [
      "/var/folders/yn/4hm9bbfn0414pdpdfbn4x7sh0000gn/T/ipykernel_22289/3854864060.py:1: RuntimeWarning: divide by zero encountered in divide\n",
      "  1 / arr2\n"
     ]
    },
    {
     "data": {
      "text/plain": [
       "array([[0.02702703, 0.02325581, 0.08333333, 0.125     , 0.11111111],\n",
       "       [0.09090909, 0.2       , 0.06666667,        inf, 0.0625    ],\n",
       "       [1.        , 0.08333333, 0.14285714, 0.02222222, 0.16666667]])"
      ]
     },
     "execution_count": 18,
     "metadata": {},
     "output_type": "execute_result"
    }
   ],
   "source": [
    "1 / arr2"
   ]
  },
  {
   "cell_type": "code",
   "execution_count": 21,
   "id": "baa4054f",
   "metadata": {},
   "outputs": [
    {
     "data": {
      "text/plain": [
       "array([[ 21,   1,   7,  -4,  13],\n",
       "       [  1,  -1,   3,  -6,  18],\n",
       "       [-10,  -5,   2,  19,   9]])"
      ]
     },
     "execution_count": 21,
     "metadata": {},
     "output_type": "execute_result"
    }
   ],
   "source": [
    "np.random.seed(seed=101)\n",
    "arr = np.random.randint(low=-10, high=25, size=(3,5))\n",
    "arr"
   ]
  },
  {
   "cell_type": "code",
   "execution_count": 22,
   "id": "6da3760c",
   "metadata": {},
   "outputs": [
    {
     "name": "stderr",
     "output_type": "stream",
     "text": [
      "/var/folders/yn/4hm9bbfn0414pdpdfbn4x7sh0000gn/T/ipykernel_22289/1137436022.py:1: RuntimeWarning: invalid value encountered in sqrt\n",
      "  np.sqrt(arr) # Square root of each element in the array\n"
     ]
    },
    {
     "data": {
      "text/plain": [
       "array([[4.58257569, 1.        , 2.64575131,        nan, 3.60555128],\n",
       "       [1.        ,        nan, 1.73205081,        nan, 4.24264069],\n",
       "       [       nan,        nan, 1.41421356, 4.35889894, 3.        ]])"
      ]
     },
     "execution_count": 22,
     "metadata": {},
     "output_type": "execute_result"
    }
   ],
   "source": [
    "np.sqrt(arr) # Square root of each element in the array"
   ]
  },
  {
   "cell_type": "code",
   "execution_count": 23,
   "id": "8542942f",
   "metadata": {},
   "outputs": [
    {
     "data": {
      "text/plain": [
       "array([[21,  1,  7,  4, 13],\n",
       "       [ 1,  1,  3,  6, 18],\n",
       "       [10,  5,  2, 19,  9]])"
      ]
     },
     "execution_count": 23,
     "metadata": {},
     "output_type": "execute_result"
    }
   ],
   "source": [
    "np.abs(arr) # Absolute value of each element in the array"
   ]
  },
  {
   "cell_type": "code",
   "execution_count": 24,
   "id": "c192d804",
   "metadata": {},
   "outputs": [
    {
     "data": {
      "text/plain": [
       "array([[2.097152e+06, 2.000000e+00, 1.280000e+02, 6.250000e-02,\n",
       "        8.192000e+03],\n",
       "       [2.000000e+00, 5.000000e-01, 8.000000e+00, 1.562500e-02,\n",
       "        2.621440e+05],\n",
       "       [9.765625e-04, 3.125000e-02, 4.000000e+00, 5.242880e+05,\n",
       "        5.120000e+02]])"
      ]
     },
     "execution_count": 24,
     "metadata": {},
     "output_type": "execute_result"
    }
   ],
   "source": [
    "np.exp2(arr) # 2 raised to the power of each element in the array"
   ]
  },
  {
   "cell_type": "code",
   "execution_count": 25,
   "id": "8940c24d",
   "metadata": {},
   "outputs": [
    {
     "name": "stderr",
     "output_type": "stream",
     "text": [
      "/var/folders/yn/4hm9bbfn0414pdpdfbn4x7sh0000gn/T/ipykernel_22289/3120950136.py:1: RuntimeWarning: invalid value encountered in log\n",
      "  np.log(arr)\n"
     ]
    },
    {
     "data": {
      "text/plain": [
       "array([[3.04452244, 0.        , 1.94591015,        nan, 2.56494936],\n",
       "       [0.        ,        nan, 1.09861229,        nan, 2.89037176],\n",
       "       [       nan,        nan, 0.69314718, 2.94443898, 2.19722458]])"
      ]
     },
     "execution_count": 25,
     "metadata": {},
     "output_type": "execute_result"
    }
   ],
   "source": [
    "np.log(arr)"
   ]
  },
  {
   "cell_type": "code",
   "execution_count": 26,
   "id": "9b9f74c7",
   "metadata": {},
   "outputs": [
    {
     "name": "stderr",
     "output_type": "stream",
     "text": [
      "/var/folders/yn/4hm9bbfn0414pdpdfbn4x7sh0000gn/T/ipykernel_22289/2680528797.py:1: RuntimeWarning: invalid value encountered in log2\n",
      "  np.log2(arr) # Base 2 logarithm of each element in the array\n"
     ]
    },
    {
     "data": {
      "text/plain": [
       "array([[4.39231742, 0.        , 2.80735492,        nan, 3.70043972],\n",
       "       [0.        ,        nan, 1.5849625 ,        nan, 4.169925  ],\n",
       "       [       nan,        nan, 1.        , 4.24792751, 3.169925  ]])"
      ]
     },
     "execution_count": 26,
     "metadata": {},
     "output_type": "execute_result"
    }
   ],
   "source": [
    "np.log2(arr) # Base 2 logarithm of each element in the array"
   ]
  },
  {
   "cell_type": "code",
   "execution_count": 27,
   "id": "5b367008",
   "metadata": {},
   "outputs": [
    {
     "name": "stderr",
     "output_type": "stream",
     "text": [
      "/var/folders/yn/4hm9bbfn0414pdpdfbn4x7sh0000gn/T/ipykernel_22289/3507947169.py:1: RuntimeWarning: invalid value encountered in log10\n",
      "  np.log10(arr) # Base 10 logarithm of each element in the array\n"
     ]
    },
    {
     "data": {
      "text/plain": [
       "array([[1.32221929, 0.        , 0.84509804,        nan, 1.11394335],\n",
       "       [0.        ,        nan, 0.47712125,        nan, 1.25527251],\n",
       "       [       nan,        nan, 0.30103   , 1.2787536 , 0.95424251]])"
      ]
     },
     "execution_count": 27,
     "metadata": {},
     "output_type": "execute_result"
    }
   ],
   "source": [
    "np.log10(arr) # Base 10 logarithm of each element in the array"
   ]
  },
  {
   "cell_type": "code",
   "execution_count": 28,
   "id": "fc9672ec",
   "metadata": {},
   "outputs": [
    {
     "data": {
      "text/plain": [
       "9.344279295673667"
      ]
     },
     "execution_count": 28,
     "metadata": {},
     "output_type": "execute_result"
    }
   ],
   "source": [
    "np.std(arr) # Standard deviation of the array"
   ]
  },
  {
   "cell_type": "code",
   "execution_count": 29,
   "id": "62d1682e",
   "metadata": {},
   "outputs": [
    {
     "data": {
      "text/plain": [
       "4.533333333333333"
      ]
     },
     "execution_count": 29,
     "metadata": {},
     "output_type": "execute_result"
    }
   ],
   "source": [
    "np.mean(arr) # Mean of the array"
   ]
  },
  {
   "cell_type": "code",
   "execution_count": 30,
   "id": "176ef5a4",
   "metadata": {},
   "outputs": [
    {
     "data": {
      "text/plain": [
       "2.0"
      ]
     },
     "execution_count": 30,
     "metadata": {},
     "output_type": "execute_result"
    }
   ],
   "source": [
    "np.median(arr) # Median of the array"
   ]
  },
  {
   "cell_type": "code",
   "execution_count": 31,
   "id": "1e0f161d",
   "metadata": {},
   "outputs": [
    {
     "data": {
      "text/plain": [
       "21"
      ]
     },
     "execution_count": 31,
     "metadata": {},
     "output_type": "execute_result"
    }
   ],
   "source": [
    "np.max(arr) # Maximum value in the array"
   ]
  },
  {
   "cell_type": "code",
   "execution_count": 32,
   "id": "fd3077b7",
   "metadata": {},
   "outputs": [
    {
     "data": {
      "text/plain": [
       "-10"
      ]
     },
     "execution_count": 32,
     "metadata": {},
     "output_type": "execute_result"
    }
   ],
   "source": [
    "np.min(arr) # Minimum value in the array"
   ]
  },
  {
   "cell_type": "code",
   "execution_count": 33,
   "id": "d6a0d9f3",
   "metadata": {},
   "outputs": [
    {
     "data": {
      "text/plain": [
       "68"
      ]
     },
     "execution_count": 33,
     "metadata": {},
     "output_type": "execute_result"
    }
   ],
   "source": [
    "np.sum(arr) # Sum of all elements in the array"
   ]
  },
  {
   "cell_type": "code",
   "execution_count": 34,
   "id": "2558db33",
   "metadata": {},
   "outputs": [
    {
     "data": {
      "text/plain": [
       "array([[ 21,   1,   7,  -4,  13],\n",
       "       [  1,  -1,   3,  -6,  18],\n",
       "       [-10,  -5,   2,  19,   9]])"
      ]
     },
     "execution_count": 34,
     "metadata": {},
     "output_type": "execute_result"
    }
   ],
   "source": [
    "arr"
   ]
  },
  {
   "cell_type": "code",
   "execution_count": 35,
   "id": "b5a87760",
   "metadata": {},
   "outputs": [
    {
     "data": {
      "text/plain": [
       "array([12, -5, 12,  9, 40])"
      ]
     },
     "execution_count": 35,
     "metadata": {},
     "output_type": "execute_result"
    }
   ],
   "source": [
    "np.sum(arr, axis=0)  # Sum along the first axis (columns)"
   ]
  },
  {
   "cell_type": "code",
   "execution_count": 36,
   "id": "3c6b01b1",
   "metadata": {},
   "outputs": [
    {
     "data": {
      "text/plain": [
       "array([38, 15, 15])"
      ]
     },
     "execution_count": 36,
     "metadata": {},
     "output_type": "execute_result"
    }
   ],
   "source": [
    "np.sum(arr, axis=1)  # Sum along the second axis (rows)"
   ]
  },
  {
   "cell_type": "code",
   "execution_count": 38,
   "id": "cb3efabb",
   "metadata": {},
   "outputs": [
    {
     "data": {
      "text/plain": [
       "array([[5.13850e+05, 4.00000e-01, 5.00000e-01],\n",
       "       [5.16876e+05, 3.00000e-01, 5.00000e-01],\n",
       "       [5.18915e+05, 4.00000e-01, 5.00000e-01],\n",
       "       [5.21920e+05, 4.00000e-01, 5.00000e-01],\n",
       "       [5.23813e+05, 7.00000e-01, 5.00000e-01],\n",
       "       [5.26750e+05, 7.00000e-01, 5.00000e-01],\n",
       "       [5.28712e+05, 1.00000e+00, 2.50000e-01],\n",
       "       [5.32082e+05, 1.50000e+00, 2.50000e-01]])"
      ]
     },
     "execution_count": 38,
     "metadata": {},
     "output_type": "execute_result"
    }
   ],
   "source": [
    "macro_arr = np.array([[513850, 0.4, 0.5], [516876, 0.3, 0.5], [518915, 0.4, 0.5], [521920, 0.4, 0.5], [\n",
    "                     523813, 0.7, 0.5], [526750, 0.7, 0.5], [528712, 1.0, 0.25], [532082, 1.5, 0.25]])\n",
    "macro_arr"
   ]
  },
  {
   "cell_type": "code",
   "execution_count": 41,
   "id": "1f6638f1",
   "metadata": {},
   "outputs": [
    {
     "data": {
      "text/plain": [
       "array([513850., 516876., 518915., 521920., 523813., 526750., 528712.,\n",
       "       532082.])"
      ]
     },
     "execution_count": 41,
     "metadata": {},
     "output_type": "execute_result"
    }
   ],
   "source": [
    "macro_arr[:,0] # First column of macro_arr"
   ]
  },
  {
   "cell_type": "code",
   "execution_count": null,
   "id": "47a00629",
   "metadata": {},
   "outputs": [
    {
     "data": {
      "text/plain": [
       "2071561.0"
      ]
     },
     "execution_count": 42,
     "metadata": {},
     "output_type": "execute_result"
    }
   ],
   "source": [
    "np.sum(macro_arr[:4, 0]) # Sum of the first column of the first four rows"
   ]
  },
  {
   "cell_type": "code",
   "execution_count": 44,
   "id": "a154f506",
   "metadata": {},
   "outputs": [
    {
     "data": {
      "text/plain": [
       "array([ 0.1 ,  0.2 ,  0.1 ,  0.1 , -0.2 , -0.2 , -0.75, -1.25])"
      ]
     },
     "execution_count": 44,
     "metadata": {},
     "output_type": "execute_result"
    }
   ],
   "source": [
    "np.subtract(macro_arr[:, 2], macro_arr[:, 1]) # Subtracting the second column from the third column of macro_arr"
   ]
  },
  {
   "cell_type": "code",
   "execution_count": 49,
   "id": "cbb93f6e",
   "metadata": {},
   "outputs": [
    {
     "data": {
      "text/plain": [
       "array([0.675 , 0.4375])"
      ]
     },
     "execution_count": 49,
     "metadata": {},
     "output_type": "execute_result"
    }
   ],
   "source": [
    "np.mean(macro_arr[:, 1:], axis=0) # Mean of the second and third columns of macro_arr"
   ]
  },
  {
   "cell_type": "code",
   "execution_count": 50,
   "id": "be1f2620",
   "metadata": {},
   "outputs": [
    {
     "data": {
      "text/plain": [
       "array([0.3799671 , 0.10825318])"
      ]
     },
     "execution_count": 50,
     "metadata": {},
     "output_type": "execute_result"
    }
   ],
   "source": [
    "np.std(macro_arr[:, 1:], axis=0) # Standard deviation of the second and third columns of macro_arr"
   ]
  }
 ],
 "metadata": {
  "kernelspec": {
   "display_name": ".venv",
   "language": "python",
   "name": "python3"
  },
  "language_info": {
   "codemirror_mode": {
    "name": "ipython",
    "version": 3
   },
   "file_extension": ".py",
   "mimetype": "text/x-python",
   "name": "python",
   "nbconvert_exporter": "python",
   "pygments_lexer": "ipython3",
   "version": "3.12.8"
  }
 },
 "nbformat": 4,
 "nbformat_minor": 5
}
