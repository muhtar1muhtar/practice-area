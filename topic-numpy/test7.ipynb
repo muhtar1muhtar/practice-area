{
 "cells": [
  {
   "cell_type": "code",
   "execution_count": 1,
   "id": "50a537a3",
   "metadata": {},
   "outputs": [],
   "source": [
    "import numpy as np"
   ]
  },
  {
   "cell_type": "code",
   "execution_count": 2,
   "id": "7e456cb6",
   "metadata": {},
   "outputs": [
    {
     "data": {
      "text/plain": [
       "array([41, 21, 27, 16, 33, 21, 19, 23, 14])"
      ]
     },
     "execution_count": 2,
     "metadata": {},
     "output_type": "execute_result"
    }
   ],
   "source": [
    "np.random.seed(seed=101)\n",
    "arr = np.random.randint(low=10,high=50,size=9)\n",
    "arr"
   ]
  },
  {
   "cell_type": "code",
   "execution_count": 6,
   "id": "59817f43",
   "metadata": {},
   "outputs": [
    {
     "data": {
      "text/plain": [
       "array([19, 23, 14])"
      ]
     },
     "execution_count": 6,
     "metadata": {},
     "output_type": "execute_result"
    }
   ],
   "source": [
    "arr[-3:] # Accessing the last 3 elements of the 1D array"
   ]
  },
  {
   "cell_type": "code",
   "execution_count": 7,
   "id": "99f721a8",
   "metadata": {},
   "outputs": [
    {
     "data": {
      "text/plain": [
       "array([19, 23])"
      ]
     },
     "execution_count": 7,
     "metadata": {},
     "output_type": "execute_result"
    }
   ],
   "source": [
    "arr[-3:-1] # Accessing elements from index -3 to -1 (exclusive) in the 1D array"
   ]
  },
  {
   "cell_type": "code",
   "execution_count": null,
   "id": "0760472e",
   "metadata": {},
   "outputs": [
    {
     "data": {
      "text/plain": [
       "array([[41, 21, 27, 16, 33],\n",
       "       [21, 19, 23, 14, 38],\n",
       "       [10, 15, 22, 39, 29]])"
      ]
     },
     "execution_count": 8,
     "metadata": {},
     "output_type": "execute_result"
    }
   ],
   "source": [
    "np.random.seed(seed=101)\n",
    "arr = np.random.randint(low=10,high=50,size=(3,5)) # 2-D array, shape: 3 x 5\n",
    "arr"
   ]
  },
  {
   "cell_type": "code",
   "execution_count": 10,
   "id": "e9cb306c",
   "metadata": {},
   "outputs": [
    {
     "data": {
      "text/plain": [
       "array([[16, 33],\n",
       "       [14, 38],\n",
       "       [39, 29]])"
      ]
     },
     "execution_count": 10,
     "metadata": {},
     "output_type": "execute_result"
    }
   ],
   "source": [
    "arr[:,-2:] # Accessing the last 2 columns of the 2D array"
   ]
  },
  {
   "cell_type": "code",
   "execution_count": null,
   "id": "6903a01e",
   "metadata": {},
   "outputs": [
    {
     "data": {
      "text/plain": [
       "array([[23, 14],\n",
       "       [22, 39]])"
      ]
     },
     "execution_count": 11,
     "metadata": {},
     "output_type": "execute_result"
    }
   ],
   "source": [
    "arr[-2:,-3:-1] # Accessing the last 2 rows and columns from index -3 to -1 (exclusive) in the 2D array"
   ]
  },
  {
   "cell_type": "code",
   "execution_count": null,
   "id": "e0ce94c7",
   "metadata": {},
   "outputs": [
    {
     "data": {
      "text/plain": [
       "array([[[41, 21, 27, 16],\n",
       "        [33, 21, 19, 23],\n",
       "        [14, 38, 10, 15],\n",
       "        [22, 39, 29, 18],\n",
       "        [39, 44, 18, 29]],\n",
       "\n",
       "       [[20, 22, 41, 33],\n",
       "        [10, 19, 18, 46],\n",
       "        [29, 45, 38, 17],\n",
       "        [20, 49, 48, 19],\n",
       "        [28, 17, 49, 25]],\n",
       "\n",
       "       [[10, 22, 27, 21],\n",
       "        [25, 43, 39, 34],\n",
       "        [46, 29, 45, 40],\n",
       "        [20, 49, 30, 37],\n",
       "        [18, 32, 36, 33]]])"
      ]
     },
     "execution_count": 12,
     "metadata": {},
     "output_type": "execute_result"
    }
   ],
   "source": [
    "np.random.seed(seed=101)\n",
    "arr = np.random.randint(low=10,high=50,size=(3,5,4)) # 3-D array, shape: 3 x 5 x 4\n",
    "arr"
   ]
  },
  {
   "cell_type": "code",
   "execution_count": null,
   "id": "a6908a7d",
   "metadata": {},
   "outputs": [
    {
     "data": {
      "text/plain": [
       "array([[[45, 38, 17],\n",
       "        [49, 48, 19]]])"
      ]
     },
     "execution_count": 14,
     "metadata": {},
     "output_type": "execute_result"
    }
   ],
   "source": [
    "arr[-2:-1,-3:-1,-3:]"
   ]
  }
 ],
 "metadata": {
  "kernelspec": {
   "display_name": ".venv",
   "language": "python",
   "name": "python3"
  },
  "language_info": {
   "codemirror_mode": {
    "name": "ipython",
    "version": 3
   },
   "file_extension": ".py",
   "mimetype": "text/x-python",
   "name": "python",
   "nbconvert_exporter": "python",
   "pygments_lexer": "ipython3",
   "version": "3.12.8"
  }
 },
 "nbformat": 4,
 "nbformat_minor": 5
}
