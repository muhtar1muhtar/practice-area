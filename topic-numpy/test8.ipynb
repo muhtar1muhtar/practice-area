{
 "cells": [
  {
   "cell_type": "code",
   "execution_count": 1,
   "id": "91597cff",
   "metadata": {},
   "outputs": [],
   "source": [
    "import numpy as np"
   ]
  },
  {
   "cell_type": "code",
   "execution_count": 2,
   "id": "51428b7a",
   "metadata": {},
   "outputs": [
    {
     "data": {
      "text/plain": [
       "array([[10,  5, 16,  1, 18],\n",
       "       [17, 18,  9, 10,  1],\n",
       "       [11,  9, 23,  5, 20]])"
      ]
     },
     "execution_count": 2,
     "metadata": {},
     "output_type": "execute_result"
    }
   ],
   "source": [
    "np.random.seed(seed=10)\n",
    "arr = np.random.randint(low=1,high=25, size=(3,5))\n",
    "arr"
   ]
  },
  {
   "cell_type": "code",
   "execution_count": null,
   "id": "a23631a0",
   "metadata": {},
   "outputs": [
    {
     "data": {
      "text/plain": [
       "array([[ True,  True,  True, False,  True],\n",
       "       [ True,  True,  True,  True, False],\n",
       "       [ True,  True,  True,  True,  True]])"
      ]
     },
     "execution_count": 3,
     "metadata": {},
     "output_type": "execute_result"
    }
   ],
   "source": [
    "arr>4 # Boolean array where True indicates elements greater than 4"
   ]
  },
  {
   "cell_type": "code",
   "execution_count": 4,
   "id": "8e4f4dfa",
   "metadata": {},
   "outputs": [
    {
     "data": {
      "text/plain": [
       "array([10,  5, 16, 18, 17, 18,  9, 10, 11,  9, 23,  5, 20])"
      ]
     },
     "execution_count": 4,
     "metadata": {},
     "output_type": "execute_result"
    }
   ],
   "source": [
    "arr[arr>4] # Accessing elements greater than 4"
   ]
  },
  {
   "cell_type": "code",
   "execution_count": 5,
   "id": "98379502",
   "metadata": {},
   "outputs": [
    {
     "data": {
      "text/plain": [
       "array([5, 1, 1, 5])"
      ]
     },
     "execution_count": 5,
     "metadata": {},
     "output_type": "execute_result"
    }
   ],
   "source": [
    "arr[arr<7] # Accessing elements less than 7"
   ]
  },
  {
   "cell_type": "code",
   "execution_count": 6,
   "id": "a9d2d710",
   "metadata": {},
   "outputs": [
    {
     "data": {
      "text/plain": [
       "array([10,  5, 16, 17,  9, 10, 11,  9,  5])"
      ]
     },
     "execution_count": 6,
     "metadata": {},
     "output_type": "execute_result"
    }
   ],
   "source": [
    "arr[(arr>4) & (arr<=17)] # Accessing elements greater than 4 and less than or equal to 17"
   ]
  },
  {
   "cell_type": "code",
   "execution_count": 7,
   "id": "6b3dfab5",
   "metadata": {},
   "outputs": [
    {
     "data": {
      "text/plain": [
       "array([ 5, 16,  1, 18, 17, 18,  1, 23,  5, 20])"
      ]
     },
     "execution_count": 7,
     "metadata": {},
     "output_type": "execute_result"
    }
   ],
   "source": [
    "arr[(arr<=5) | (arr>15)] # Accessing elements less than or equal to 5 or greater than 15"
   ]
  },
  {
   "cell_type": "code",
   "execution_count": 8,
   "id": "1b0618bd",
   "metadata": {},
   "outputs": [
    {
     "data": {
      "text/plain": [
       "array([ 1,  9,  1,  9, 23, 20])"
      ]
     },
     "execution_count": 8,
     "metadata": {},
     "output_type": "execute_result"
    }
   ],
   "source": [
    "arr[((arr<=2) | (arr>18)) | (arr==9)] # Accessing elements less than or equal to 2, greater than 18, or equal to 9"
   ]
  },
  {
   "cell_type": "code",
   "execution_count": 9,
   "id": "8743cac9",
   "metadata": {},
   "outputs": [
    {
     "data": {
      "text/plain": [
       "array([[0.9  , 0.1  ],\n",
       "       [2.1  , 0.1  ],\n",
       "       [2.7  , 0.1  ],\n",
       "       [4.4  , 0.25 ],\n",
       "       [5.5  , 0.625],\n",
       "       [7.9  , 1.125],\n",
       "       [8.7  , 2.   ],\n",
       "       [9.4  , 3.25 ]])"
      ]
     },
     "execution_count": 9,
     "metadata": {},
     "output_type": "execute_result"
    }
   ],
   "source": [
    "macro_arr=np.array([[0.9,0.1],[2.1,0.1],[2.7,0.1],[4.4,0.25],[5.5,0.625],[7.9,1.125],[8.7,2],[9.4,3.25]])\n",
    "macro_arr"
   ]
  },
  {
   "cell_type": "code",
   "execution_count": 10,
   "id": "bdfe7b1d",
   "metadata": {},
   "outputs": [
    {
     "data": {
      "text/plain": [
       "array([0.9  , 0.1  , 0.1  , 0.1  , 0.25 , 0.625, 9.4  ])"
      ]
     },
     "execution_count": 10,
     "metadata": {},
     "output_type": "execute_result"
    }
   ],
   "source": [
    "macro_arr[(macro_arr<=1) | (macro_arr>9)] # Accessing elements less than or equal to 1 or greater than 9"
   ]
  },
  {
   "cell_type": "code",
   "execution_count": null,
   "id": "ebd92e12",
   "metadata": {},
   "outputs": [],
   "source": []
  }
 ],
 "metadata": {
  "kernelspec": {
   "display_name": ".venv",
   "language": "python",
   "name": "python3"
  },
  "language_info": {
   "codemirror_mode": {
    "name": "ipython",
    "version": 3
   },
   "file_extension": ".py",
   "mimetype": "text/x-python",
   "name": "python",
   "nbconvert_exporter": "python",
   "pygments_lexer": "ipython3",
   "version": "3.12.8"
  }
 },
 "nbformat": 4,
 "nbformat_minor": 5
}
