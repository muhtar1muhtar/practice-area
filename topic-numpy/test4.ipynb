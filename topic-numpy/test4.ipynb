{
 "cells": [
  {
   "cell_type": "code",
   "execution_count": 3,
   "id": "9e631183",
   "metadata": {},
   "outputs": [],
   "source": [
    "import numpy as np"
   ]
  },
  {
   "cell_type": "code",
   "execution_count": 4,
   "id": "dc76fb7b",
   "metadata": {},
   "outputs": [
    {
     "data": {
      "text/plain": [
       "array([ 48, 118,  68, 104,  10,  22,  37,  88,  71,  89, 141,  59,  40,\n",
       "        88,  89,  82,  26,  78,  73,  10, 149, 116,  80,  83, 100,  30,\n",
       "       148, 148, 143,  33])"
      ]
     },
     "execution_count": 4,
     "metadata": {},
     "output_type": "execute_result"
    }
   ],
   "source": [
    "np.random.seed(seed=0) # set seed for reproducibility\n",
    "arr = np.random.randint(low=1, high=150, size=30) # 1-d array, shape: 30 elements\n",
    "arr"
   ]
  },
  {
   "cell_type": "code",
   "execution_count": 5,
   "id": "099f5ff5",
   "metadata": {},
   "outputs": [
    {
     "data": {
      "text/plain": [
       "array([[ 48, 118,  68, 104,  10,  22,  37,  88,  71,  89],\n",
       "       [141,  59,  40,  88,  89,  82,  26,  78,  73,  10],\n",
       "       [149, 116,  80,  83, 100,  30, 148, 148, 143,  33]])"
      ]
     },
     "execution_count": 5,
     "metadata": {},
     "output_type": "execute_result"
    }
   ],
   "source": [
    "arr_reshaped = arr.reshape(3, 10) # reshape to 2-d array, shape: 3 x 10\n",
    "arr_reshaped"
   ]
  },
  {
   "cell_type": "code",
   "execution_count": null,
   "id": "f1cdd8a3",
   "metadata": {},
   "outputs": [
    {
     "data": {
      "text/plain": [
       "array([[[ 48, 118,  68, 104,  10],\n",
       "        [ 22,  37,  88,  71,  89]],\n",
       "\n",
       "       [[141,  59,  40,  88,  89],\n",
       "        [ 82,  26,  78,  73,  10]],\n",
       "\n",
       "       [[149, 116,  80,  83, 100],\n",
       "        [ 30, 148, 148, 143,  33]]])"
      ]
     },
     "execution_count": 7,
     "metadata": {},
     "output_type": "execute_result"
    }
   ],
   "source": [
    "arr_reshaped = arr.reshape(3, 2, 5) # reshape to 3-d array, shape: 3 x 2 x 5\n",
    "arr_reshaped"
   ]
  },
  {
   "cell_type": "code",
   "execution_count": 8,
   "id": "bff240f8",
   "metadata": {},
   "outputs": [
    {
     "name": "stdout",
     "output_type": "stream",
     "text": [
      "array: \n",
      " [1 2 3 4 5 6 7 8] \n",
      "\n",
      "array shape: (8,)\n"
     ]
    }
   ],
   "source": [
    "arr = np.arange(start=1,stop=9,step=1)\n",
    "print(f\"array: \\n {arr} \\n\\n\"\n",
    "      f\"array shape: {arr.shape}\")"
   ]
  },
  {
   "cell_type": "code",
   "execution_count": 11,
   "id": "6f766eb9",
   "metadata": {},
   "outputs": [
    {
     "name": "stdout",
     "output_type": "stream",
     "text": [
      "array: \n",
      " [[1]\n",
      " [2]\n",
      " [3]\n",
      " [4]\n",
      " [5]\n",
      " [6]\n",
      " [7]\n",
      " [8]] \n",
      "\n",
      "array shape: (8, 1)\n"
     ]
    }
   ],
   "source": [
    "arr_reshaped = arr.reshape(-1,1)\n",
    "\n",
    "# it is a 2-D array because you passed a tuple with 2 items\n",
    "# the -1 means 'unknown', so you don't know how many rows this 2-D array will have\n",
    "# the 1 means you want a single column\n",
    "\n",
    "print(f\"array: \\n {arr_reshaped} \\n\\n\"\n",
    "      f\"array shape: {arr_reshaped.shape}\")"
   ]
  },
  {
   "cell_type": "code",
   "execution_count": 13,
   "id": "ac7eedb3",
   "metadata": {},
   "outputs": [
    {
     "name": "stdout",
     "output_type": "stream",
     "text": [
      "array: \n",
      " [[1 2]\n",
      " [3 4]\n",
      " [5 6]\n",
      " [7 8]] \n",
      "\n",
      "array shape: (4, 2)\n"
     ]
    }
   ],
   "source": [
    "arr_reshaped = arr.reshape(-1,2)\n",
    "print(f\"array: \\n {arr_reshaped} \\n\\n\"\n",
    "      f\"array shape: {arr_reshaped.shape}\")"
   ]
  },
  {
   "cell_type": "code",
   "execution_count": 14,
   "id": "fccaad2a",
   "metadata": {},
   "outputs": [
    {
     "data": {
      "text/plain": [
       "array([[ 48, 118,  68, 104,  10],\n",
       "       [ 22,  37,  88,  71,  89]])"
      ]
     },
     "execution_count": 14,
     "metadata": {},
     "output_type": "execute_result"
    }
   ],
   "source": [
    "np.random.seed(seed=0) # set seed for reproducibility\n",
    "arr = np.random.randint(low=1, high=150, size=(2,5)) # 2-d array, shape: 2 x 5\n",
    "arr"
   ]
  },
  {
   "cell_type": "code",
   "execution_count": 15,
   "id": "7371a44c",
   "metadata": {},
   "outputs": [
    {
     "data": {
      "text/plain": [
       "array([ 48, 118,  68, 104,  10,  22,  37,  88,  71,  89])"
      ]
     },
     "execution_count": 15,
     "metadata": {},
     "output_type": "execute_result"
    }
   ],
   "source": [
    "arr_flattened = arr.flatten() # flatten to 1-d array\n",
    "arr_flattened"
   ]
  },
  {
   "cell_type": "code",
   "execution_count": 16,
   "id": "ae6b102b",
   "metadata": {},
   "outputs": [
    {
     "data": {
      "text/plain": [
       "array([ 48, 118,  68, 104,  10,  22,  37,  88,  71,  89])"
      ]
     },
     "execution_count": 16,
     "metadata": {},
     "output_type": "execute_result"
    }
   ],
   "source": [
    "arr_reshaped = arr.reshape(-1) # reshape to 1-d array\n",
    "arr_reshaped"
   ]
  },
  {
   "cell_type": "code",
   "execution_count": 21,
   "id": "e1036de6",
   "metadata": {},
   "outputs": [
    {
     "data": {
      "text/plain": [
       "array([[ 48, 118,  68, 104,  10],\n",
       "       [ 22,  37,  88,  71,  89]])"
      ]
     },
     "execution_count": 21,
     "metadata": {},
     "output_type": "execute_result"
    }
   ],
   "source": [
    "arr"
   ]
  },
  {
   "cell_type": "code",
   "execution_count": 19,
   "id": "f18c904e",
   "metadata": {},
   "outputs": [
    {
     "data": {
      "text/plain": [
       "10"
      ]
     },
     "execution_count": 19,
     "metadata": {},
     "output_type": "execute_result"
    }
   ],
   "source": [
    "arr.min() # minimum value in the array"
   ]
  },
  {
   "cell_type": "code",
   "execution_count": 20,
   "id": "3edd372e",
   "metadata": {},
   "outputs": [
    {
     "data": {
      "text/plain": [
       "118"
      ]
     },
     "execution_count": 20,
     "metadata": {},
     "output_type": "execute_result"
    }
   ],
   "source": [
    "arr.max() # maximum value in the array"
   ]
  },
  {
   "cell_type": "code",
   "execution_count": 23,
   "id": "5bd15b11",
   "metadata": {},
   "outputs": [
    {
     "data": {
      "text/plain": [
       "4"
      ]
     },
     "execution_count": 23,
     "metadata": {},
     "output_type": "execute_result"
    }
   ],
   "source": [
    "arr.argmin() # index of the minimum value in the array"
   ]
  },
  {
   "cell_type": "code",
   "execution_count": 24,
   "id": "5efff8b1",
   "metadata": {},
   "outputs": [
    {
     "data": {
      "text/plain": [
       "1"
      ]
     },
     "execution_count": 24,
     "metadata": {},
     "output_type": "execute_result"
    }
   ],
   "source": [
    "arr.argmax() # index of the maximum value in the array"
   ]
  },
  {
   "cell_type": "code",
   "execution_count": 25,
   "id": "0c39d251",
   "metadata": {},
   "outputs": [
    {
     "data": {
      "text/plain": [
       "array([22, 37, 68, 71, 10])"
      ]
     },
     "execution_count": 25,
     "metadata": {},
     "output_type": "execute_result"
    }
   ],
   "source": [
    "arr.min(axis=0) # minimum value along axis 0 (columns)"
   ]
  },
  {
   "cell_type": "code",
   "execution_count": 26,
   "id": "7ead4072",
   "metadata": {},
   "outputs": [
    {
     "data": {
      "text/plain": [
       "array([1, 1, 0, 1, 0])"
      ]
     },
     "execution_count": 26,
     "metadata": {},
     "output_type": "execute_result"
    }
   ],
   "source": [
    "arr.argmin(axis=0) # index of the minimum value along axis 0 (columns)"
   ]
  },
  {
   "cell_type": "code",
   "execution_count": 27,
   "id": "64863c51",
   "metadata": {},
   "outputs": [
    {
     "data": {
      "text/plain": [
       "array([10, 22])"
      ]
     },
     "execution_count": 27,
     "metadata": {},
     "output_type": "execute_result"
    }
   ],
   "source": [
    "arr.min(axis=1) # minimum value along axis 1 (rows)"
   ]
  },
  {
   "cell_type": "code",
   "execution_count": 28,
   "id": "9adf68ab",
   "metadata": {},
   "outputs": [
    {
     "data": {
      "text/plain": [
       "array([4, 0])"
      ]
     },
     "execution_count": 28,
     "metadata": {},
     "output_type": "execute_result"
    }
   ],
   "source": [
    "arr.argmin(axis=1) # index of the minimum value along axis 1 (rows)"
   ]
  },
  {
   "cell_type": "code",
   "execution_count": 29,
   "id": "6ca71f76",
   "metadata": {},
   "outputs": [
    {
     "data": {
      "text/plain": [
       "array([ 1,  2,  3,  4,  5,  6,  7,  8,  9, 10])"
      ]
     },
     "execution_count": 29,
     "metadata": {},
     "output_type": "execute_result"
    }
   ],
   "source": [
    "arr = np.arange(start=1, stop=11, step=1) # create a 1-d array with values from 1 to 10\n",
    "arr"
   ]
  },
  {
   "cell_type": "code",
   "execution_count": 30,
   "id": "50d1099c",
   "metadata": {},
   "outputs": [
    {
     "data": {
      "text/plain": [
       "array([[ 1,  2],\n",
       "       [ 3,  4],\n",
       "       [ 5,  6],\n",
       "       [ 7,  8],\n",
       "       [ 9, 10]])"
      ]
     },
     "execution_count": 30,
     "metadata": {},
     "output_type": "execute_result"
    }
   ],
   "source": [
    "arr = np.arange(start=1, stop=11, step=1).reshape(5,2) # create a 2-d array with values from 1 to 10, shape: 5 x 2\n",
    "arr"
   ]
  },
  {
   "cell_type": "code",
   "execution_count": 31,
   "id": "d7325b47",
   "metadata": {},
   "outputs": [
    {
     "name": "stdout",
     "output_type": "stream",
     "text": [
      "Array: \n",
      " [[ 1  2]\n",
      " [ 3  4]\n",
      " [ 5  6]\n",
      " [ 7  8]\n",
      " [ 9 10]] \n",
      "\n",
      "Array shape: (5, 2) \n",
      "\n",
      "Array type: int64\n"
     ]
    }
   ],
   "source": [
    "print(f\"Array: \\n {arr} \\n\\n\"\n",
    "      f\"Array shape: {arr.shape} \\n\\n\"\n",
    "      f\"Array type: {arr.dtype}\")"
   ]
  },
  {
   "cell_type": "code",
   "execution_count": 32,
   "id": "c09a4bff",
   "metadata": {},
   "outputs": [
    {
     "data": {
      "text/plain": [
       "array([[ 1.76405235,  0.40015721,  0.97873798,  2.2408932 ],\n",
       "       [ 1.86755799, -0.97727788,  0.95008842, -0.15135721]])"
      ]
     },
     "execution_count": 32,
     "metadata": {},
     "output_type": "execute_result"
    }
   ],
   "source": [
    "np.random.seed(seed=0)\n",
    "arr = np.random.randn(2,4)\n",
    "arr"
   ]
  },
  {
   "cell_type": "code",
   "execution_count": 33,
   "id": "7c8d186c",
   "metadata": {},
   "outputs": [
    {
     "name": "stdout",
     "output_type": "stream",
     "text": [
      "Array: \n",
      " [[ 1.76405235  0.40015721  0.97873798  2.2408932 ]\n",
      " [ 1.86755799 -0.97727788  0.95008842 -0.15135721]] \n",
      "\n",
      "Array shape: (2, 4) \n",
      "\n",
      "Array type: float64\n"
     ]
    }
   ],
   "source": [
    "print(f\"Array: \\n {arr} \\n\\n\"\n",
    "      f\"Array shape: {arr.shape} \\n\\n\"\n",
    "      f\"Array type: {arr.dtype}\")"
   ]
  }
 ],
 "metadata": {
  "kernelspec": {
   "display_name": ".venv",
   "language": "python",
   "name": "python3"
  },
  "language_info": {
   "codemirror_mode": {
    "name": "ipython",
    "version": 3
   },
   "file_extension": ".py",
   "mimetype": "text/x-python",
   "name": "python",
   "nbconvert_exporter": "python",
   "pygments_lexer": "ipython3",
   "version": "3.12.8"
  }
 },
 "nbformat": 4,
 "nbformat_minor": 5
}
