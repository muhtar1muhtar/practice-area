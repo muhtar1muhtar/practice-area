{
 "cells": [
  {
   "cell_type": "code",
   "execution_count": 1,
   "id": "5c0719e5",
   "metadata": {},
   "outputs": [],
   "source": [
    "import numpy as np"
   ]
  },
  {
   "cell_type": "code",
   "execution_count": 2,
   "id": "f31f6922",
   "metadata": {},
   "outputs": [
    {
     "data": {
      "text/plain": [
       "array([ 0,  2,  4,  6,  8, 10, 12, 14, 16, 18, 20, 22, 24])"
      ]
     },
     "execution_count": 2,
     "metadata": {},
     "output_type": "execute_result"
    }
   ],
   "source": [
    "arr = np.arange(start=0, stop=26, step=2) # generates 1D array\n",
    "arr"
   ]
  },
  {
   "cell_type": "code",
   "execution_count": 3,
   "id": "e9b0cded",
   "metadata": {},
   "outputs": [
    {
     "data": {
      "text/plain": [
       "16"
      ]
     },
     "execution_count": 3,
     "metadata": {},
     "output_type": "execute_result"
    }
   ],
   "source": [
    "arr[8] # Accessing the 9th element (index 8) of the array"
   ]
  },
  {
   "cell_type": "code",
   "execution_count": 4,
   "id": "b1bff7ca",
   "metadata": {},
   "outputs": [
    {
     "data": {
      "text/plain": [
       "0"
      ]
     },
     "execution_count": 4,
     "metadata": {},
     "output_type": "execute_result"
    }
   ],
   "source": [
    "arr[0] # Accessing the first element (index 0) of the array"
   ]
  },
  {
   "cell_type": "code",
   "execution_count": 5,
   "id": "d3f88e55",
   "metadata": {},
   "outputs": [
    {
     "data": {
      "text/plain": [
       "array([ 0,  2,  4,  6,  8, 10, 12, 14, 16, 18, 20, 22, 24])"
      ]
     },
     "execution_count": 5,
     "metadata": {},
     "output_type": "execute_result"
    }
   ],
   "source": [
    "arr"
   ]
  },
  {
   "cell_type": "code",
   "execution_count": 7,
   "id": "8e057f75",
   "metadata": {},
   "outputs": [
    {
     "data": {
      "text/plain": [
       "array([2, 4, 6, 8])"
      ]
     },
     "execution_count": 7,
     "metadata": {},
     "output_type": "execute_result"
    }
   ],
   "source": [
    "arr[1:5] # Accessing elements from index 1 to 4 (5 is exclusive) "
   ]
  },
  {
   "cell_type": "code",
   "execution_count": 8,
   "id": "61e5a980",
   "metadata": {},
   "outputs": [
    {
     "data": {
      "text/plain": [
       "array([0, 2, 4, 6, 8])"
      ]
     },
     "execution_count": 8,
     "metadata": {},
     "output_type": "execute_result"
    }
   ],
   "source": [
    "arr[0:5] # Slicing the first 5 elements"
   ]
  },
  {
   "cell_type": "code",
   "execution_count": 9,
   "id": "673d0f16",
   "metadata": {},
   "outputs": [
    {
     "data": {
      "text/plain": [
       "array([10, 12, 14, 16, 18])"
      ]
     },
     "execution_count": 9,
     "metadata": {},
     "output_type": "execute_result"
    }
   ],
   "source": [
    "arr[5:10] # Accessing elements from index 5 to 9 (10 is exclusive)"
   ]
  },
  {
   "cell_type": "code",
   "execution_count": 10,
   "id": "a2379994",
   "metadata": {},
   "outputs": [
    {
     "data": {
      "text/plain": [
       "array([0, 2, 4, 6, 8])"
      ]
     },
     "execution_count": 10,
     "metadata": {},
     "output_type": "execute_result"
    }
   ],
   "source": [
    "arr[:5] # Accessing the first 5 elements (same as arr[0:5])"
   ]
  },
  {
   "cell_type": "code",
   "execution_count": 11,
   "id": "16ae63a5",
   "metadata": {},
   "outputs": [
    {
     "data": {
      "text/plain": [
       "array([14, 16, 18, 20, 22, 24])"
      ]
     },
     "execution_count": 11,
     "metadata": {},
     "output_type": "execute_result"
    }
   ],
   "source": [
    "arr[7:] # Accessing elements from index 7 to the end of the array"
   ]
  },
  {
   "cell_type": "code",
   "execution_count": 12,
   "id": "0de0a8f5",
   "metadata": {},
   "outputs": [
    {
     "data": {
      "text/plain": [
       "array([[41, 21, 27, 16, 33],\n",
       "       [21, 19, 23, 14, 38],\n",
       "       [10, 15, 22, 39, 29]])"
      ]
     },
     "execution_count": 12,
     "metadata": {},
     "output_type": "execute_result"
    }
   ],
   "source": [
    "np.random.seed(seed=101) # Setting seed for reproducibility\n",
    "arr = np.random.randint(low=10, high=50, size=(3,5)) # 2-D array, shape: 3 x 5\n",
    "arr"
   ]
  },
  {
   "cell_type": "code",
   "execution_count": 13,
   "id": "f15f9e16",
   "metadata": {},
   "outputs": [
    {
     "data": {
      "text/plain": [
       "array([], shape=(0, 5), dtype=int64)"
      ]
     },
     "execution_count": 13,
     "metadata": {},
     "output_type": "execute_result"
    }
   ],
   "source": [
    "arr[1:0] "
   ]
  },
  {
   "cell_type": "code",
   "execution_count": 14,
   "id": "74a19212",
   "metadata": {},
   "outputs": [
    {
     "data": {
      "text/plain": [
       "21"
      ]
     },
     "execution_count": 14,
     "metadata": {},
     "output_type": "execute_result"
    }
   ],
   "source": [
    "arr[1,0] # Accessing the element at row 1, column 0 of the 2D array"
   ]
  },
  {
   "cell_type": "code",
   "execution_count": 15,
   "id": "c05f3491",
   "metadata": {},
   "outputs": [
    {
     "data": {
      "text/plain": [
       "array([21, 19, 23, 14, 38])"
      ]
     },
     "execution_count": 15,
     "metadata": {},
     "output_type": "execute_result"
    }
   ],
   "source": [
    "arr[1,:] # Accessing all elements in row 1 of the 2D array"
   ]
  },
  {
   "cell_type": "code",
   "execution_count": 16,
   "id": "f40f12c9",
   "metadata": {},
   "outputs": [
    {
     "data": {
      "text/plain": [
       "array([16, 14, 39])"
      ]
     },
     "execution_count": 16,
     "metadata": {},
     "output_type": "execute_result"
    }
   ],
   "source": [
    "arr[:,3] # Accessing all elements in column 3 of the 2D array"
   ]
  },
  {
   "cell_type": "code",
   "execution_count": 17,
   "id": "ddce831a",
   "metadata": {},
   "outputs": [
    {
     "data": {
      "text/plain": [
       "array([[41, 21, 27, 16, 33],\n",
       "       [21, 19, 23, 14, 38],\n",
       "       [10, 15, 22, 39, 29]])"
      ]
     },
     "execution_count": 17,
     "metadata": {},
     "output_type": "execute_result"
    }
   ],
   "source": [
    "arr"
   ]
  },
  {
   "cell_type": "code",
   "execution_count": 18,
   "id": "6fb37860",
   "metadata": {},
   "outputs": [
    {
     "data": {
      "text/plain": [
       "array([[21, 27, 16, 33],\n",
       "       [19, 23, 14, 38]])"
      ]
     },
     "execution_count": 18,
     "metadata": {},
     "output_type": "execute_result"
    }
   ],
   "source": [
    "arr[:2,1:] # Accessing the first 2 rows and columns from index 1 to the end of the 2D array"
   ]
  },
  {
   "cell_type": "code",
   "execution_count": 19,
   "id": "ec7cc42c",
   "metadata": {},
   "outputs": [
    {
     "data": {
      "text/plain": [
       "array([[14, 38],\n",
       "       [39, 29]])"
      ]
     },
     "execution_count": 19,
     "metadata": {},
     "output_type": "execute_result"
    }
   ],
   "source": [
    "arr[1:,3:] # Accessing rows from index 1 to the end and columns from index 3 to the end of the 2D array"
   ]
  },
  {
   "cell_type": "code",
   "execution_count": 20,
   "id": "165cab3f",
   "metadata": {},
   "outputs": [
    {
     "data": {
      "text/plain": [
       "array([[[41, 21, 27, 16],\n",
       "        [33, 21, 19, 23],\n",
       "        [14, 38, 10, 15]],\n",
       "\n",
       "       [[22, 39, 29, 18],\n",
       "        [39, 44, 18, 29],\n",
       "        [20, 22, 41, 33]],\n",
       "\n",
       "       [[10, 19, 18, 46],\n",
       "        [29, 45, 38, 17],\n",
       "        [20, 49, 48, 19]]])"
      ]
     },
     "execution_count": 20,
     "metadata": {},
     "output_type": "execute_result"
    }
   ],
   "source": [
    "np.random.seed(seed=101) # Setting seed for reproducibility\n",
    "arr = np.random.randint(low=10, high=50, size=(3, 3, 4)) # 3-D array, shape: 3 x 3 x 4\n",
    "arr"
   ]
  },
  {
   "cell_type": "code",
   "execution_count": null,
   "id": "84cb18c6",
   "metadata": {},
   "outputs": [
    {
     "data": {
      "text/plain": [
       "22"
      ]
     },
     "execution_count": 21,
     "metadata": {},
     "output_type": "execute_result"
    }
   ],
   "source": [
    "arr[1,0,0] # Accesing element at array 1, row 0, column 0 of the 3D array"
   ]
  },
  {
   "cell_type": "code",
   "execution_count": 22,
   "id": "65269475",
   "metadata": {},
   "outputs": [
    {
     "data": {
      "text/plain": [
       "array([29, 45, 38, 17])"
      ]
     },
     "execution_count": 22,
     "metadata": {},
     "output_type": "execute_result"
    }
   ],
   "source": [
    "arr[2,1,:] # Accessing all elements in row 1 of array 2 in the 3D array"
   ]
  },
  {
   "cell_type": "code",
   "execution_count": 23,
   "id": "c941d39e",
   "metadata": {},
   "outputs": [
    {
     "data": {
      "text/plain": [
       "array([27, 19, 10])"
      ]
     },
     "execution_count": 23,
     "metadata": {},
     "output_type": "execute_result"
    }
   ],
   "source": [
    "arr[0,:,2] # Accessing all elements in column 2 of the first array in the 3D array"
   ]
  },
  {
   "cell_type": "code",
   "execution_count": 24,
   "id": "bd75218d",
   "metadata": {},
   "outputs": [
    {
     "data": {
      "text/plain": [
       "array([[41, 21, 27],\n",
       "       [33, 21, 19]])"
      ]
     },
     "execution_count": 24,
     "metadata": {},
     "output_type": "execute_result"
    }
   ],
   "source": [
    "arr[0,:2,:3] # Accessing the first 2 rows and first 3 columns of the first array in the 3D array"
   ]
  },
  {
   "cell_type": "code",
   "execution_count": 25,
   "id": "b28fe39f",
   "metadata": {},
   "outputs": [
    {
     "data": {
      "text/plain": [
       "array([[[41, 21, 27],\n",
       "        [33, 21, 19]],\n",
       "\n",
       "       [[22, 39, 29],\n",
       "        [39, 44, 18]]])"
      ]
     },
     "execution_count": 25,
     "metadata": {},
     "output_type": "execute_result"
    }
   ],
   "source": [
    "arr[0:2,:2,:3] # Accessing the first 2 arrays, first 2 rows, and first 3 columns in the 3D array"
   ]
  },
  {
   "cell_type": "code",
   "execution_count": 26,
   "id": "ac919d4a",
   "metadata": {},
   "outputs": [
    {
     "data": {
      "text/plain": [
       "array([[[41, 21, 27, 16],\n",
       "        [33, 21, 19, 23],\n",
       "        [14, 38, 10, 15]],\n",
       "\n",
       "       [[22, 39, 29, 18],\n",
       "        [39, 44, 18, 29],\n",
       "        [20, 22, 41, 33]],\n",
       "\n",
       "       [[10, 19, 18, 46],\n",
       "        [29, 45, 38, 17],\n",
       "        [20, 49, 48, 19]]])"
      ]
     },
     "execution_count": 26,
     "metadata": {},
     "output_type": "execute_result"
    }
   ],
   "source": [
    "arr"
   ]
  },
  {
   "cell_type": "code",
   "execution_count": 27,
   "id": "5c8c9b3a",
   "metadata": {},
   "outputs": [
    {
     "data": {
      "text/plain": [
       "array([[[39, 29],\n",
       "        [44, 18],\n",
       "        [22, 41]],\n",
       "\n",
       "       [[19, 18],\n",
       "        [45, 38],\n",
       "        [49, 48]]])"
      ]
     },
     "execution_count": 27,
     "metadata": {},
     "output_type": "execute_result"
    }
   ],
   "source": [
    "arr[1:,:3,1:3] # Accessing rows from index 1 to the end, columns from index 1 to 3 in the 3D array"
   ]
  }
 ],
 "metadata": {
  "kernelspec": {
   "display_name": ".venv",
   "language": "python",
   "name": "python3"
  },
  "language_info": {
   "codemirror_mode": {
    "name": "ipython",
    "version": 3
   },
   "file_extension": ".py",
   "mimetype": "text/x-python",
   "name": "python",
   "nbconvert_exporter": "python",
   "pygments_lexer": "ipython3",
   "version": "3.12.8"
  }
 },
 "nbformat": 4,
 "nbformat_minor": 5
}
